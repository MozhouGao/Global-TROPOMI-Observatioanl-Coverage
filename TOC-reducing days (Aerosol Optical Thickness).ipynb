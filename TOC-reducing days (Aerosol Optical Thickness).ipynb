{
 "cells": [
  {
   "cell_type": "code",
   "execution_count": 1,
   "id": "082546ac",
   "metadata": {},
   "outputs": [],
   "source": [
    "import numpy as np\n",
    "import netCDF4 as nc\n",
    "import pandas as pd \n",
    "import os \n",
    "import datetime as dt\n",
    "import matplotlib.pyplot as plt "
   ]
  },
  {
   "cell_type": "code",
   "execution_count": 2,
   "id": "a537f617",
   "metadata": {},
   "outputs": [],
   "source": [
    "def locate_file(d_str,path): \n",
    "    \"\"\"\n",
    "    function to locate TROPOMI level-2 data file based on datetime string  \n",
    "    \n",
    "    param: d_str-> datetime string (e.g., 20210101)\n",
    "    param: path -> folder path for searching TROPOMI data files\n",
    "    \n",
    "    \"\"\"\n",
    "    files=[]\n",
    "    for r, d, f in os.walk(path):\n",
    "        for file in f:\n",
    "            a = file.split('_')\n",
    "            qaue_time = a[8] \n",
    "            if d_str in qaue_time:\n",
    "                files.append(os.path.join(r, file))\n",
    "    return files  "
   ]
  },
  {
   "cell_type": "code",
   "execution_count": 3,
   "id": "fba9adfa",
   "metadata": {},
   "outputs": [],
   "source": [
    "longitudes = np.arange(-180,180,0.1)\n",
    "latitudes = np.arange(-90,90,0.1)\n",
    "X,Y = np.meshgrid(longitudes,latitudes)\n",
    "\n",
    "rav_lon = np.ravel(X)\n",
    "rav_lat = np.ravel(Y)\n",
    "rav_lat = np.round(rav_lat,decimals=1)\n",
    "rav_lon = np.round(rav_lon,decimals=1)\n",
    "rav_lon = rav_lon.astype(str)\n",
    "rav_lat = rav_lat.astype(str)"
   ]
  },
  {
   "cell_type": "markdown",
   "id": "866926f9",
   "metadata": {},
   "source": [
    "### This is an example of calculating AOT induced TOC-reducing days between 2021 and 2022"
   ]
  },
  {
   "cell_type": "code",
   "execution_count": null,
   "id": "7792c0b6",
   "metadata": {},
   "outputs": [],
   "source": [
    "daytime = dt.datetime(2021,1,1)\n",
    "\n",
    "path = r\"where you save your TROPOMI Level-2 data products\"\n",
    "\n",
    "mdf = pd.DataFrame(data={'lon':rav_lon,\n",
    "                        'lat':rav_lat,})\n",
    "odf = pd.DataFrame(data={'lon':rav_lon,\n",
    "                        'lat':rav_lat})\n",
    "while daytime.year<2022: \n",
    "    day_str = daytime.strftime(\"%Y%m%d\")\n",
    "    day_files = locate_file(day_str,path)\n",
    "    print(day_str,len(day_files))\n",
    "    i = 0 \n",
    "    for f in day_files: \n",
    "        TF = nc.Dataset(f,'r')\n",
    "        data = TF.groups['PRODUCT']\n",
    "        var = TF.groups['PRODUCT'].variables\n",
    "        \n",
    "        AOT = data['SUPPORT_DATA']['DETAILED_RESULTS']['aerosol_optical_thickness_NIR'][0,:,:].data\n",
    "\n",
    "        lat = var['latitude'][0,:,:].data\n",
    "        lon = var['longitude'][0,:,:].data\n",
    "\n",
    "        TF.close()\n",
    "        \n",
    "        nd_filt = AOT == 9.96921e+36\n",
    "        \n",
    "        AOT[nd_filt] = -1 \n",
    "        \n",
    "        # find grid cells with AOT <= 0.3 \n",
    "        mask = (0 <= AOT)&(AOT <= 0.3) \n",
    "        \n",
    "        valid_sza = AOT[mask]\n",
    "        valid_lat = lat[mask]\n",
    "        valid_lon = lon[mask]\n",
    "        \n",
    "        ones = np.ones(len(valid_sza))\n",
    "        \n",
    "        valid_lat = np.round(valid_lat,decimals=1)\n",
    "        valid_lon = np.round(valid_lon,decimals=1)\n",
    "        valid_lat  = valid_lat.astype(str)\n",
    "        valid_lon = valid_lon.astype(str)\n",
    "\n",
    "        df1 = pd.DataFrame(data={'lon':valid_lon,\n",
    "                            'lat':valid_lat,\n",
    "                            'sza_{}'.format(i):ones})\n",
    "\n",
    "        \n",
    "        odf = pd.merge(odf, df1, on=['lon', 'lat'],how='left')\n",
    "        odf.drop_duplicates(inplace=True)\n",
    "        \n",
    "        # find grid cells with AOT > 0.3  \n",
    "        mask2 = AOT > 0.3 \n",
    "        nd_sza = AOT[mask2]\n",
    "        nd_lat = lat[mask2]\n",
    "        nd_lon = lon[mask2]\n",
    "        ones2 = np.ones(len(nd_sza))\n",
    "        \n",
    "        nd_lat = np.round(nd_lat,decimals=1)\n",
    "        nd_lon = np.round(nd_lon,decimals=1)\n",
    "        nd_lat  = nd_lat.astype(str)\n",
    "        nd_lon = nd_lon.astype(str)\n",
    "        \n",
    "        df2 = pd.DataFrame(data={'lon':nd_lon,\n",
    "                            'lat':nd_lat,\n",
    "                            'sza_{}'.format(i):ones2})\n",
    "        mdf = pd.merge(mdf, df2, on=['lon', 'lat'],how='left')\n",
    "        mdf.drop_duplicates(inplace=True)\n",
    "        \n",
    "        i += 1 \n",
    "\n",
    "    day = odf.iloc[:,2:].sum(axis=1)\n",
    "    day = np.array(day)\n",
    "    \n",
    "    da = day > 0 \n",
    "    db = day <= 0 \n",
    "    day[da] = 1 \n",
    "    day[db] = 0 \n",
    "    \n",
    "    arr = np.reshape(day,(1800,3600))\n",
    "    \n",
    "    TRO = nc.Dataset(r\"your path\\AOT_{}.nc\".format(day_str), 'w', format='NETCDF4_CLASSIC')\n",
    "    lat = TRO.createDimension('lat', 1800)\n",
    "    lon = TRO.createDimension('lon', 3600)\n",
    "    td = TRO.createVariable('aot', int, ('lat', 'lon'))\n",
    "    td[:] = arr\n",
    "    # Close File\n",
    "    TRO.close()\n",
    "    \n",
    "    day2 = mdf.iloc[:,2:].sum(axis=1)\n",
    "    day2 = np.array(day2)\n",
    "    \n",
    "    da = day2 > 0 \n",
    "    db = day2 <= 0 \n",
    "    day2[da] = 0 \n",
    "    day2[db] = 1\n",
    "    \n",
    "    arr2 = np.reshape(day2,(1800,3600))\n",
    "    \n",
    "    TRO = nc.Dataset(r\"your path\\AOT_nd_{}.nc\".format(day_str), 'w', format='NETCDF4_CLASSIC')\n",
    "    lat = TRO.createDimension('lat', 1800)\n",
    "    lon = TRO.createDimension('lon', 3600)\n",
    "    td = TRO.createVariable('aot', int, ('lat', 'lon'))\n",
    "    td[:] = arr2\n",
    "    # Close File\n",
    "    TRO.close()\n",
    "\n",
    "    # create new dataframe\n",
    "    odf = pd.DataFrame(data={'lon':rav_lon,\n",
    "                        'lat':rav_lat})\n",
    "    \n",
    "    mdf = pd.DataFrame(data={'lon':rav_lon,\n",
    "                        'lat':rav_lat,})\n",
    "    \n",
    "    print(f\"Finished TOC-reducing day of:{daytime}\")\n",
    "    \n",
    "    daytime += dt.timedelta(days=1)"
   ]
  },
  {
   "cell_type": "markdown",
   "id": "fe7a0f59",
   "metadata": {},
   "source": [
    "#### TOC-reducing days "
   ]
  },
  {
   "cell_type": "code",
   "execution_count": null,
   "id": "f43bafc8",
   "metadata": {},
   "outputs": [],
   "source": [
    "path  = r\"where you saved TOC-reducing days\""
   ]
  },
  {
   "cell_type": "code",
   "execution_count": null,
   "id": "a7f3c1ea",
   "metadata": {},
   "outputs": [],
   "source": [
    "# file list with AOT <= 0.3 \n",
    "files1=[]\n",
    "for r, d, f in os.walk(path):\n",
    "    for file in f:\n",
    "        if 'AOT' in file:\n",
    "            files.append(os.path.join(r, file))"
   ]
  },
  {
   "cell_type": "code",
   "execution_count": null,
   "id": "c47c430c",
   "metadata": {},
   "outputs": [],
   "source": [
    "# file list with AOT > 0.3\n",
    "files2=[]\n",
    "for r, d, f in os.walk(path):\n",
    "    for file in f:\n",
    "        if 'AOT' in file:\n",
    "            files.append(os.path.join(r, file))"
   ]
  },
  {
   "cell_type": "code",
   "execution_count": null,
   "id": "5d2c54ff",
   "metadata": {},
   "outputs": [],
   "source": [
    "AOT_day = np.empty(shape=(365,1800,3600),dtype=int)\n",
    "i = 0 \n",
    "for f in zip(file1,file2):\n",
    "    # file with AOT <= 0.3 \n",
    "    d1 = nc.Dataset(f[0],'r')\n",
    "    td = d1.variables['aot'][:]\n",
    "    # file with AOT > 0.3 \n",
    "    d2 = nc.Dataset(f[1],'r')\n",
    "    nd = d2.variables['aot'][:]\n",
    "    \n",
    "    aot = nd - td \n",
    "    \n",
    "    AOT_day[i,:,:] = aot\n",
    "    d1.close()\n",
    "    d2.close()\n",
    "    i += 1 "
   ]
  },
  {
   "cell_type": "code",
   "execution_count": null,
   "id": "86212ad6",
   "metadata": {},
   "outputs": [],
   "source": [
    "AOT_day = np.sum(AOT_day,axis=1)"
   ]
  },
  {
   "cell_type": "code",
   "execution_count": null,
   "id": "f4757a84",
   "metadata": {},
   "outputs": [],
   "source": [
    "AOT_day_flip = np.flip(AOT_day)\n",
    "AOT_day = np.flip(AOT_day_flip,1)"
   ]
  },
  {
   "cell_type": "code",
   "execution_count": null,
   "id": "6591c4c3",
   "metadata": {},
   "outputs": [],
   "source": [
    "plt.imshow(AOT_day)\n",
    "plt.show()"
   ]
  },
  {
   "cell_type": "code",
   "execution_count": 4,
   "id": "df057266",
   "metadata": {},
   "outputs": [],
   "source": [
    "# TRO = nc.Dataset(r\"save file\", 'w', format='NETCDF4_CLASSIC')\n",
    "# lat = TRO.createDimension('lat', 1800)\n",
    "# lon = TRO.createDimension('lon', 3600)\n",
    "# td = TRO.createVariable('aot', int, ('lat', 'lon'))\n",
    "# td[:] = AOT_day\n",
    "# TRO.close()"
   ]
  },
  {
   "cell_type": "code",
   "execution_count": null,
   "id": "dcf8c056",
   "metadata": {},
   "outputs": [],
   "source": []
  }
 ],
 "metadata": {
  "kernelspec": {
   "display_name": "Python 3 (ipykernel)",
   "language": "python",
   "name": "python3"
  },
  "language_info": {
   "codemirror_mode": {
    "name": "ipython",
    "version": 3
   },
   "file_extension": ".py",
   "mimetype": "text/x-python",
   "name": "python",
   "nbconvert_exporter": "python",
   "pygments_lexer": "ipython3",
   "version": "3.9.16"
  }
 },
 "nbformat": 4,
 "nbformat_minor": 5
}
