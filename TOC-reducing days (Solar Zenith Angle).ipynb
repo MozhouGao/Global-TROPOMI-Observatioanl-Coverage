{
 "cells": [
  {
   "cell_type": "code",
   "execution_count": 1,
   "id": "96b5ef11",
   "metadata": {},
   "outputs": [],
   "source": [
    "import numpy as np\n",
    "import netCDF4 as nc\n",
    "import pandas as pd \n",
    "import os \n",
    "import datetime as dt \n",
    "import matplotlib.pyplot as plt "
   ]
  },
  {
   "cell_type": "code",
   "execution_count": 2,
   "id": "375e7502",
   "metadata": {},
   "outputs": [],
   "source": [
    "def locate_file(d_str,path): \n",
    "    \"\"\"\n",
    "    function to locate TROPOMI level-2 data file based on datetime string  \n",
    "    \n",
    "    param: d_str-> datetime string (e.g., 20210101)\n",
    "    param: path -> folder path for searching TROPOMI data files\n",
    "    \n",
    "    \"\"\"\n",
    "    files=[]\n",
    "    for r, d, f in os.walk(path):\n",
    "        for file in f:\n",
    "            a = file.split('_')\n",
    "            qaue_time = a[8] \n",
    "            if d_str in qaue_time:\n",
    "                files.append(os.path.join(r, file))\n",
    "    return files  "
   ]
  },
  {
   "cell_type": "code",
   "execution_count": null,
   "id": "203ac93b",
   "metadata": {},
   "outputs": [],
   "source": [
    "longitudes = np.arange(-180,180,0.1)\n",
    "latitudes = np.arange(-90,90,0.1)\n",
    "X,Y = np.meshgrid(longitudes,latitudes)"
   ]
  },
  {
   "cell_type": "code",
   "execution_count": null,
   "id": "afb45699",
   "metadata": {},
   "outputs": [],
   "source": [
    "rav_lon = np.ravel(X)\n",
    "rav_lat = np.ravel(Y)\n",
    "rav_lat = np.round(rav_lat,decimals=1)\n",
    "rav_lon = np.round(rav_lon,decimals=1)\n",
    "rav_lon = rav_lon.astype(str)\n",
    "rav_lat = rav_lat.astype(str)"
   ]
  },
  {
   "cell_type": "markdown",
   "id": "5ec25fc9",
   "metadata": {},
   "source": [
    "### This is an example of calculating SZA induced TOC-reducing days between 2021 and 2022"
   ]
  },
  {
   "cell_type": "code",
   "execution_count": null,
   "id": "af803a66",
   "metadata": {},
   "outputs": [],
   "source": [
    "daytime = dt.datetime(2021,8,8)\n",
    "mdf = pd.DataFrame(data={'lon':rav_lon,\n",
    "                        'lat':rav_lat,\n",
    "                        })\n",
    "\n",
    "odf = pd.DataFrame(data={'lon':rav_lon,\n",
    "                        'lat':rav_lat})\n",
    "\n",
    "path = r\"where you save your TROPOMI Level-2 data products\"\n",
    "\n",
    "while daytime.year<2022: \n",
    "    day_str = daytime.strftime(\"%Y%m%d\")\n",
    "    day_files = locate_file(day_str,path)\n",
    "    print(day_str,len(day_files))\n",
    "    i = 0 \n",
    "    for f in day_files: \n",
    "        TF = nc.Dataset(f,'r')\n",
    "        data = TF.groups['PRODUCT']\n",
    "        var = TF.groups['PRODUCT'].variables\n",
    "        \n",
    "        SZA = data['SUPPORT_DATA']['GEOLOCATIONS']['solar_zenith_angle'][0,:,:].data\n",
    "        \n",
    "        filt = SZA == 9.96921e+36\n",
    "        SZA[filt] = -1 \n",
    "\n",
    "        lat = var['latitude'][0,:,:].data\n",
    "        lon = var['longitude'][0,:,:].data\n",
    "\n",
    "        TF.close()\n",
    "        \n",
    "        # find grid cells with SZA > 70 degrees\n",
    "        \n",
    "        mask = SZA > 70 \n",
    "        valid_cf = SZA[mask]\n",
    "        valid_lat = lat[mask]\n",
    "        valid_lon = lon[mask]\n",
    "        \n",
    "        ones = np.ones(len(valid_lon))\n",
    "        \n",
    "        valid_lat = np.round(valid_lat,decimals=1)\n",
    "        valid_lon = np.round(valid_lon,decimals=1)\n",
    "        valid_lat  = valid_lat.astype(str)\n",
    "        valid_lon = valid_lon.astype(str)\n",
    "\n",
    "        df1 = pd.DataFrame(data={'lon':valid_lon,\n",
    "                            'lat':valid_lat,\n",
    "                            'cloud_{}'.format(i):ones})\n",
    "\n",
    "        \n",
    "        odf = pd.merge(odf, df1, on=['lon', 'lat'],how='left')\n",
    "        odf.drop_duplicates(inplace=True)\n",
    "        \n",
    "        \n",
    "        # find grid cells with SZA <= 70 degrees\n",
    "        mask2 = (SZA >= 0) & (SZA <= 70) \n",
    "        nd_sas = SZA[mask2]\n",
    "        nd_lat = lat[mask2]\n",
    "        nd_lon = lon[mask2]\n",
    "        \n",
    "        ones2 = np.ones(len(nd_sas))\n",
    "        \n",
    "        nd_lat = np.round(nd_lat,decimals=1)\n",
    "        nd_lon = np.round(nd_lon,decimals=1)\n",
    "        nd_lat  = nd_lat.astype(str)\n",
    "        nd_lon = nd_lon.astype(str)\n",
    "        \n",
    "        \n",
    "        df2 = pd.DataFrame(data={'lon':nd_lon,\n",
    "                            'lat':nd_lat,\n",
    "                            'sza_{}'.format(i):ones2})\n",
    "    \n",
    "        mdf = pd.merge(mdf,df2,on=['lon', 'lat'],how='left')\n",
    "        mdf.drop_duplicates(inplace=True)\n",
    "        \n",
    "        i += 1 \n",
    "\n",
    "    day = odf.iloc[:,2:].sum(axis=1)\n",
    "    day = np.array(day)\n",
    "    \n",
    "    da = day > 0 \n",
    "    db = day <= 0 \n",
    "    day[da] = 1 \n",
    "    day[db] = 0 \n",
    "    \n",
    "    arr = np.reshape(day,(1800,3600))\n",
    "    \n",
    "    TRO = nc.Dataset(r\"your path\\sza_{}.nc\".format(day_str), 'w', format='NETCDF4_CLASSIC')\n",
    "    lat = TRO.createDimension('lat', 1800)\n",
    "    lon = TRO.createDimension('lon', 3600)\n",
    "    td = TRO.createVariable('td', int, ('lat', 'lon'))\n",
    "    td[:] = arr\n",
    "    # Close File\n",
    "    TRO.close()\n",
    "    \n",
    "    day2 = mdf.iloc[:,2:].sum(axis=1)\n",
    "    day2 = np.array(day2)\n",
    "    da = day2 > 0 \n",
    "    db = day2 <= 0 \n",
    "    day2[da] = 0 \n",
    "    day2[db] = 1\n",
    "    day_arr2 = np.reshape(day2,(1800,3600))\n",
    "    \n",
    "    \n",
    "    TRO = nc.Dataset(r\"your path\\sza_nd_{}.nc\".format(day_str), 'w', format='NETCDF4_CLASSIC')\n",
    "    lat = TRO.createDimension('lat', 1800)\n",
    "    lon = TRO.createDimension('lon', 3600)\n",
    "    td = TRO.createVariable('nd', int, ('lat', 'lon'))\n",
    "    td[:] = day_arr2\n",
    "    # Close File\n",
    "    TRO.close()\n",
    "    \n",
    "    mdf = pd.DataFrame(data={'lon':rav_lon,\n",
    "                        'lat':rav_lat,\n",
    "                        })\n",
    "\n",
    "    \n",
    "    odf = pd.DataFrame(data={'lon':rav_lon,\n",
    "                        'lat':rav_lat})\n",
    "    \n",
    "    print(f\"Finished TOC-reducing day of:{daytime}\")\n",
    "    \n",
    "    daytime += dt.timedelta(days=1)"
   ]
  },
  {
   "cell_type": "markdown",
   "id": "6f4c0f22",
   "metadata": {},
   "source": [
    "#### TOC-reducing days "
   ]
  },
  {
   "cell_type": "code",
   "execution_count": null,
   "id": "46e4f07c",
   "metadata": {},
   "outputs": [],
   "source": [
    "path = r\"where you saved your SZA analysis resuls\""
   ]
  },
  {
   "cell_type": "code",
   "execution_count": null,
   "id": "2730c0be",
   "metadata": {},
   "outputs": [],
   "source": [
    "# file list with SZA <= 70\n",
    "files1=[]\n",
    "for r, d, f in os.walk(path):\n",
    "    for file in f:\n",
    "        if 'sza' in file:\n",
    "            files.append(os.path.join(r, file))"
   ]
  },
  {
   "cell_type": "code",
   "execution_count": null,
   "id": "4a779a18",
   "metadata": {},
   "outputs": [],
   "source": [
    "# file list with SZA > 70\n",
    "files2=[]\n",
    "for r, d, f in os.walk(path):\n",
    "    for file in f:\n",
    "        if 'sza' in file:\n",
    "            files2.append(os.path.join(r, file))"
   ]
  },
  {
   "cell_type": "code",
   "execution_count": null,
   "id": "f9030bc2",
   "metadata": {},
   "outputs": [],
   "source": [
    "SZA_day = np.empty(shape=(365,1800,3600),dtype=int)\n",
    "i = 0 \n",
    "for f in zip(files1,files2):\n",
    "    # file with SZA <= 70 \n",
    "    d1 = nc.Dataset(f[0],'r')\n",
    "    td = d1.variables['td'][:]\n",
    "    # file with SZA > 70 \n",
    "    d2 = nc.Dataset(f[1],'r')\n",
    "    nd = d2.variables['nd'][:]\n",
    "    \n",
    "    sza = nd - td \n",
    "    \n",
    "    SZA_day[i,:,:] = sza\n",
    "    d1.close()\n",
    "    d2.close()\n",
    "    i += 1 "
   ]
  },
  {
   "cell_type": "code",
   "execution_count": null,
   "id": "052f6eb3",
   "metadata": {},
   "outputs": [],
   "source": [
    "SZA_day = np.sum(SZA_day,axis=1)"
   ]
  },
  {
   "cell_type": "code",
   "execution_count": null,
   "id": "697a9ac2",
   "metadata": {},
   "outputs": [],
   "source": [
    "SZA_day_flip = np.flip(SZA_day)\n",
    "SZA_day = np.flip(SZA_day_flip,1)"
   ]
  },
  {
   "cell_type": "code",
   "execution_count": null,
   "id": "8af9fecf",
   "metadata": {},
   "outputs": [],
   "source": [
    "plt.imshow(SZA_day)\n",
    "plot.show()"
   ]
  },
  {
   "cell_type": "code",
   "execution_count": 3,
   "id": "d4fdc6c5",
   "metadata": {},
   "outputs": [],
   "source": [
    "# TRO = nc.Dataset(r\"save your SZA RESULTS\".format(day_str), 'w', format='NETCDF4_CLASSIC')\n",
    "# lat = TRO.createDimension('lat', 1800)\n",
    "# lon = TRO.createDimension('lon', 3600)\n",
    "# td = TRO.createVariable('td', int, ('lat', 'lon'))\n",
    "# td[:] = SZA_day\n",
    "# TRO.close()"
   ]
  },
  {
   "cell_type": "code",
   "execution_count": null,
   "id": "0b6af3b6",
   "metadata": {},
   "outputs": [],
   "source": []
  }
 ],
 "metadata": {
  "kernelspec": {
   "display_name": "Python 3 (ipykernel)",
   "language": "python",
   "name": "python3"
  },
  "language_info": {
   "codemirror_mode": {
    "name": "ipython",
    "version": 3
   },
   "file_extension": ".py",
   "mimetype": "text/x-python",
   "name": "python",
   "nbconvert_exporter": "python",
   "pygments_lexer": "ipython3",
   "version": "3.9.16"
  }
 },
 "nbformat": 4,
 "nbformat_minor": 5
}
