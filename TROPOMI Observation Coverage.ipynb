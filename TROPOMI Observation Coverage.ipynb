{
 "cells": [
  {
   "cell_type": "code",
   "execution_count": 1,
   "id": "a2cffb29",
   "metadata": {},
   "outputs": [],
   "source": [
    "# import pakcages \n",
    "import pandas as pd \n",
    "import numpy as np  \n",
    "import netCDF4 as nc\n",
    "import os \n",
    "import matplotlib.pyplot as plt \n",
    "import datetime as dt \n",
    "import time "
   ]
  },
  {
   "cell_type": "markdown",
   "id": "1427c038",
   "metadata": {},
   "source": [
    "### Calculate TROPOMI Days"
   ]
  },
  {
   "cell_type": "code",
   "execution_count": 4,
   "id": "b9c71d95",
   "metadata": {},
   "outputs": [],
   "source": [
    "def locate_file(d_str,path): \n",
    "    \"\"\"\n",
    "    function to locate TROPOMI level-2 data file based on datetime string  \n",
    "    \n",
    "    param: d_str-> datetime string (e.g., 20210101)\n",
    "    param: path -> folder path for searching TROPOMI data files\n",
    "    \n",
    "    \"\"\"\n",
    "    files=[]\n",
    "    for r, d, f in os.walk(path):\n",
    "        for file in f:\n",
    "            a = file.split('_')\n",
    "            qaue_time = a[8] \n",
    "            if d_str in qaue_time:\n",
    "                files.append(os.path.join(r, file))\n",
    "    return files "
   ]
  },
  {
   "cell_type": "code",
   "execution_count": null,
   "id": "55511e5b",
   "metadata": {},
   "outputs": [],
   "source": [
    "def calculate_TROPOMI_day(rav_lon,rav_lat,start_day,end_year,files_path,qa_check,output_path):\n",
    "    \n",
    "    \"\"\"\n",
    "    function to calculate TROPOMI days for each day \n",
    "    param: rav_lon -> flatten longitudes array \n",
    "    param: rav_lat -> flatten latitude array \n",
    "    param: start_day -> datatime object of the start day\n",
    "    param: end_year -> year for end the analysis \n",
    "    param: files_path -> folder path for searching TROPOMI data files\n",
    "    param: qa_check -> threshold of qa value for determine TROPOMI day\n",
    "    param: output_path -> folder path for output TROPOMI day \n",
    "    \"\"\"\n",
    "    \n",
    "    odf = pd.DataFrame(data={'lon':rav_lon,\n",
    "                        'lat':rav_lat})\n",
    "    \n",
    "    while start_day.year<end_year:\n",
    "        day_str = daytime.strftime(\"%Y%m%d\")\n",
    "        day_files = locate_file(day_str,files_path)\n",
    "        print(day_str,len(day_files))\n",
    "        \n",
    "        i = 0 \n",
    "        for f in day_files:\n",
    "            # read TROPOMI level-2 data product\n",
    "            tropomi_data = nc.Dataset(f,'r')\n",
    "            var = tropomi_data.groups['PRODUCT'].variables\n",
    "            # extract qa value, longitude, and latitude\n",
    "            qa = var['qa_value'][0,:,:].data\n",
    "            lat = var['latitude'][0,:,:].data\n",
    "            lon = var['longitude'][0,:,:].data\n",
    "            tropomi_data.close()\n",
    "            # find valid observations with qa value > qa threshold\n",
    "            valid_qa = qa[qa>qa_check]\n",
    "            valid_lat = lat[qa>qa_check]\n",
    "            valid_lon = lon[qa>qa_check]\n",
    "            \n",
    "            # convert valid observations to dataframe\n",
    "            valid_lat = np.round(valid_lat,decimals=1)\n",
    "            valid_lon = np.round(valid_lon,decimals=1)\n",
    "            valid_lat  = valid_lat.astype(str)\n",
    "            valid_lon = valid_lon.astype(str)\n",
    "\n",
    "            vdf = pd.DataFrame(data={'lon':valid_lon,\n",
    "                                'lat':valid_lat,\n",
    "                                'qa_{}'.format(i):valid_qa})\n",
    "            # merge two dataframes     \n",
    "            odf = pd.merge(odf, vdf, on=['lon', 'lat'],how='left')\n",
    "            odf.drop_duplicates(inplace=True)\n",
    "            i += 1 \n",
    "        \n",
    "        # calcualte TROPOMI day\n",
    "        day = odf.iloc[:,2:].sum(axis=1)\n",
    "        day = np.array(day)\n",
    "\n",
    "        da = day > 0 \n",
    "        db = day <= 0 \n",
    "        day[da] = 1 \n",
    "        day[db] = 0 \n",
    "        arr = np.reshape(day,(1800,3600))\n",
    "        \n",
    "        # export TROPOMI day\n",
    "        epath = os.path.join(output_path,\"TROPOMIdays_{}.nc\".format(day_str))\n",
    "        TRO = nc.Dataset(epath, 'w', format='NETCDF4_CLASSIC')\n",
    "        lat = TRO.createDimension('lat', 1800)\n",
    "        lon = TRO.createDimension('lon', 3600)\n",
    "        td = TRO.createVariable('td', int, ('lat', 'lon'))\n",
    "        td[:] = arr\n",
    "        TRO.close()\n",
    "        \n",
    "        # recreated 0.1 by 0.1 grid cell dataframe\n",
    "        odf = pd.DataFrame(data={'lon':rav_lon,\n",
    "                        'lat':rav_lat})\n",
    "\n",
    "        print(f\"Finished TROPOMI day for: {start_day}\")\n",
    "        \n",
    "        daytime += dt.timedelta(days=1)"
   ]
  },
  {
   "cell_type": "code",
   "execution_count": 2,
   "id": "59cb5d94",
   "metadata": {},
   "outputs": [],
   "source": [
    "# define a global 0.1 x 0.1 degree grid cells\n",
    "longitudes = np.arange(-180,180,0.1)\n",
    "latitudes = np.arange(-90,90,0.1)\n",
    "X,Y = np.meshgrid(longitudes,latitudes)"
   ]
  },
  {
   "cell_type": "code",
   "execution_count": 3,
   "id": "a55d8e62",
   "metadata": {},
   "outputs": [],
   "source": [
    "# convert grid cells to dataframe \n",
    "rav_lon = np.ravel(X)\n",
    "rav_lat = np.ravel(Y)\n",
    "rav_lat = np.round(rav_lat,decimals=1)\n",
    "rav_lon = np.round(rav_lon,decimals=1)\n",
    "rav_lon = rav_lon.astype(str)\n",
    "rav_lat = rav_lat.astype(str)\n"
   ]
  },
  {
   "cell_type": "code",
   "execution_count": null,
   "id": "5b861dc2",
   "metadata": {},
   "outputs": [],
   "source": [
    "start_day = dt.datetime(2020,1,1)\n",
    "end_year = 2021\n",
    "files_path = \"\"\n",
    "qa_check = 0.5 \n",
    "output_path = \"\"\n",
    "calculate_TROPOMI_day(rav_lon,rav_lat,start_day,end_year,files_path,qa_check,output_path)"
   ]
  },
  {
   "cell_type": "markdown",
   "id": "7adc0a0d",
   "metadata": {},
   "source": [
    "### Calculate TROPOMI Observational Coverage, consecutive TROPOMI days, and maximum TROPOMI gap day"
   ]
  },
  {
   "cell_type": "code",
   "execution_count": 9,
   "id": "9a6f9089",
   "metadata": {},
   "outputs": [],
   "source": [
    "path  = \"\" # where TROPOMI days netCDF files were saved \n",
    "TROPOMI_day_files=[]\n",
    "for r, d, f in os.walk(path):\n",
    "    for file in f:\n",
    "        if 'TROPOMI' in file:\n",
    "            TROPOMI_day_files.append(os.path.join(r, file))"
   ]
  },
  {
   "cell_type": "code",
   "execution_count": 10,
   "id": "ba2b8c91",
   "metadata": {},
   "outputs": [],
   "source": [
    "def cal_consecutive_day(data):\n",
    "    longest = 0\n",
    "    current = 0\n",
    "    for num in data:\n",
    "        if num == 1:\n",
    "            current += 1\n",
    "        else:\n",
    "            longest = max(longest, current)\n",
    "            current = 0\n",
    "\n",
    "    return max(longest, current)"
   ]
  },
  {
   "cell_type": "code",
   "execution_count": 11,
   "id": "e7222dc6",
   "metadata": {},
   "outputs": [],
   "source": [
    "def cal_gap_day(data):\n",
    "    longest = 0\n",
    "    current = 0\n",
    "    for num in data:\n",
    "        if num == 0:\n",
    "            current += 1\n",
    "        else:\n",
    "            longest = max(longest, current)\n",
    "            current = 0\n",
    "\n",
    "    return max(longest, current)"
   ]
  },
  {
   "cell_type": "code",
   "execution_count": 12,
   "id": "706c3b66",
   "metadata": {},
   "outputs": [],
   "source": [
    "# calculate TROPOMI Observational Coverage \n",
    "Tro = np.empty(shape=(365,1800,3600),dtype=int)\n",
    "i = 0 \n",
    "for file in TROPOMI_day_files: \n",
    "    d = nc.Dataset(file,'r')\n",
    "    td = d.variables['td'][:]\n",
    "     \n",
    "    Tro[i,:,:] = td \n",
    "    d.close()\n",
    "    i += 1 \n",
    "TRO_days  = np.sum(Tro,axis=0)\n",
    "\n",
    "TOC = (TRO_days/365)*100"
   ]
  },
  {
   "cell_type": "code",
   "execution_count": null,
   "id": "19d4fae1",
   "metadata": {},
   "outputs": [],
   "source": [
    "# calcualte consecutive TROPOMI days and maximum TROPOMI gap day\n",
    "Tro_max = np.zeros(shape=(1800,3600)) \n",
    "Tro_gap = np.zeros(shape=(1800,3600)) \n",
    "i = 0 \n",
    "for i in range(1800):\n",
    "    j = 0 \n",
    "    for j in range (3600):\n",
    "        tro_grid = Tro[:,i,j]\n",
    "        # calculate consective TROPOMI days\n",
    "        cm = consecutive_one(tro_grid)\n",
    "        Tro_max[i,j] = cm \n",
    "        # calculate maximum gap days \n",
    "        gap = consecutive_zero(tro_grid)\n",
    "        Tro_gap[i,j] = gap\n",
    "        j += 1\n",
    "    i += 1\n"
   ]
  },
  {
   "cell_type": "code",
   "execution_count": null,
   "id": "e2b547f5",
   "metadata": {},
   "outputs": [],
   "source": [
    "# Use following script to save calculated results  \n",
    "TRO = nc.Dataset(\"your path\", 'w', format='NETCDF4_CLASSIC')\n",
    "lat = TRO.createDimension('lat', 1800)\n",
    "lon = TRO.createDimension('lon', 3600)\n",
    "td = TRO.createVariable('td', int, ('lat', 'lon'))\n",
    "td[:] = TOC # Tro_max or Tro_gap \n",
    "TRO.close()"
   ]
  }
 ],
 "metadata": {
  "kernelspec": {
   "display_name": "Python 3 (ipykernel)",
   "language": "python",
   "name": "python3"
  },
  "language_info": {
   "codemirror_mode": {
    "name": "ipython",
    "version": 3
   },
   "file_extension": ".py",
   "mimetype": "text/x-python",
   "name": "python",
   "nbconvert_exporter": "python",
   "pygments_lexer": "ipython3",
   "version": "3.9.16"
  }
 },
 "nbformat": 4,
 "nbformat_minor": 5
}
